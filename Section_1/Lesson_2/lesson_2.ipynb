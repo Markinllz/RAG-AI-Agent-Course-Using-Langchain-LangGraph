{
 "cells": [
  {
   "cell_type": "markdown",
   "id": "9f419d58",
   "metadata": {},
   "source": [
    "# Json Parsing and Processing"
   ]
  },
  {
   "cell_type": "code",
   "execution_count": 12,
   "id": "630677ef",
   "metadata": {},
   "outputs": [
    {
     "name": "stdout",
     "output_type": "stream",
     "text": [
      "Collecting jq\n",
      "  Downloading jq-1.10.0-cp313-cp313-macosx_11_0_arm64.whl.metadata (7.0 kB)\n",
      "Downloading jq-1.10.0-cp313-cp313-macosx_11_0_arm64.whl (425 kB)\n",
      "Installing collected packages: jq\n",
      "Successfully installed jq-1.10.0\n"
     ]
    }
   ],
   "source": [
    "!pip install jq\n",
    "import json\n",
    "import os\n",
    "os.makedirs(\"data/json_files\", exist_ok=True)"
   ]
  },
  {
   "cell_type": "code",
   "execution_count": 3,
   "id": "ef947136",
   "metadata": {},
   "outputs": [],
   "source": [
    "json_data = {\n",
    "    \"company\": \"TechCorp\",\n",
    "    \"employees\": [\n",
    "        {\n",
    "            \"id\": 1,\n",
    "            \"name\": \"Alex Thompson\",\n",
    "            \"role\": \"Frontend Developer\",\n",
    "            \"skills\": [\"Vue.js\", \"TypeScript\", \"CSS\"],\n",
    "            \"projects\": [\n",
    "                {\"name\": \"RAG System\", \"status\": \"In Progress\"},\n",
    "                {\"name\": \"Data Pipeline\", \"status\": \"Completed\"}\n",
    "            ]\n",
    "        },\n",
    "        {\n",
    "            \"id\": 2,\n",
    "            \"name\": \"Maria Rodriguez\",\n",
    "            \"role\": \"ML Engineer\",\n",
    "            \"skills\": [\"TensorFlow\", \"Deep Learning\", \"Docker\"],\n",
    "            \"projects\": [\n",
    "                {\"name\": \"ML Model\", \"status\": \"In Progress\"},\n",
    "                {\"name\": \"Analytics Dashboard\", \"status\": \"Planning\"}\n",
    "            ]\n",
    "        }\n",
    "    ],\n",
    "    \"departments\": {\n",
    "        \"engineering\": {\n",
    "            \"head\": \"David Chen\",\n",
    "            \"budget\": 1000000,\n",
    "            \"team_size\": 25\n",
    "        },\n",
    "        \"data_science\": {\n",
    "            \"head\": \"Emily Watson\",\n",
    "            \"budget\": 750000,\n",
    "            \"team_size\": 15\n",
    "        }\n",
    "    }\n",
    "}"
   ]
  },
  {
   "cell_type": "code",
   "execution_count": 4,
   "id": "e5190ac2",
   "metadata": {},
   "outputs": [
    {
     "data": {
      "text/plain": [
       "{'company': 'TechCorp',\n",
       " 'employees': [{'id': 1,\n",
       "   'name': 'Alex Thompson',\n",
       "   'role': 'Frontend Developer',\n",
       "   'skills': ['Vue.js', 'TypeScript', 'CSS'],\n",
       "   'projects': [{'name': 'RAG System', 'status': 'In Progress'},\n",
       "    {'name': 'Data Pipeline', 'status': 'Completed'}]},\n",
       "  {'id': 2,\n",
       "   'name': 'Maria Rodriguez',\n",
       "   'role': 'ML Engineer',\n",
       "   'skills': ['TensorFlow', 'Deep Learning', 'Docker'],\n",
       "   'projects': [{'name': 'ML Model', 'status': 'In Progress'},\n",
       "    {'name': 'Analytics Dashboard', 'status': 'Planning'}]}],\n",
       " 'departments': {'engineering': {'head': 'David Chen',\n",
       "   'budget': 1000000,\n",
       "   'team_size': 25},\n",
       "  'data_science': {'head': 'Emily Watson', 'budget': 750000, 'team_size': 15}}}"
      ]
     },
     "execution_count": 4,
     "metadata": {},
     "output_type": "execute_result"
    }
   ],
   "source": [
    "json_data"
   ]
  },
  {
   "cell_type": "code",
   "execution_count": null,
   "id": "ae378021",
   "metadata": {},
   "outputs": [],
   "source": [
    "with open('data/json_files/company_data.json', 'w') as f:\n",
    "    json.dump(json_data, f ,indent = 2)"
   ]
  },
  {
   "cell_type": "code",
   "execution_count": 9,
   "id": "89d80f61",
   "metadata": {},
   "outputs": [],
   "source": [
    "jsonl_data = [\n",
    "    {\"timestamp\": \"2024-01-01\", \"event\": \"user_login\", \"user_id\": 123},\n",
    "    {\"timestamp\": \"2024-01-01\", \"event\": \"page_view\", \"user_id\": 123, \"page\": \"/home\"},\n",
    "    {\"timestamp\": \"2024-01-01\", \"event\": \"purchase\", \"user_id\": 123, \"amount\": 99.99}\n",
    "]\n",
    "\n",
    "with open('data/json_files/events.jsonl', 'w') as f:\n",
    "    for item in jsonl_data:\n",
    "        f.write(json.dumps(item) + '\\n')\n"
   ]
  },
  {
   "cell_type": "markdown",
   "id": "fea1e3d6",
   "metadata": {},
   "source": [
    "## Json Processing Strategies"
   ]
  },
  {
   "cell_type": "code",
   "execution_count": 16,
   "id": "ad690964",
   "metadata": {},
   "outputs": [
    {
     "name": "stdout",
     "output_type": "stream",
     "text": [
      "Loader 2\n",
      "First emp. {\"id\": 1, \"name\": \"Alex Thompson\", \"role\": \"Frontend Developer\", \"skills\": [\"Vue.js\", \"TypeScript\", \"CSS\"], \"projects\": [{\"name\": \"RAG System\", \"status\": \"In Progress\"}, {\"name\": \"Data Pipeline\", \"status\": \"Completed\"}]}\n"
     ]
    }
   ],
   "source": [
    "from langchain_community.document_loaders import JSONLoader\n",
    "import json\n",
    "import jq\n",
    "\n",
    "# Method 1. Json Schema\n",
    "\n",
    "\n",
    "employee_loader = JSONLoader(\n",
    "    file_path = 'data/json_files/company_data.json',\n",
    "    jq_schema='.employees[]', #jq query to extract each employee\n",
    "    text_content=False # Full json objects\n",
    ")\n",
    "\n",
    "employee_docs = employee_loader.load()\n",
    "print(f\"Loader {len(employee_docs)}\")\n",
    "print(f\"First emp. {employee_docs[0].page_content[:500]}\")"
   ]
  },
  {
   "cell_type": "markdown",
   "id": "3ec69e83",
   "metadata": {},
   "source": [
    "## Custom JLoader"
   ]
  },
  {
   "cell_type": "code",
   "execution_count": null,
   "id": "03f56c63",
   "metadata": {},
   "outputs": [
    {
     "name": "stdout",
     "output_type": "stream",
     "text": [
      "Custom Json Loader\n"
     ]
    }
   ],
   "source": [
    "from typing import List\n",
    "from langchain_core.documents import Document\n",
    "import json\n",
    "\n",
    "print(\"Custom Json Loader\")\n",
    "\n",
    "def process_json_custom(file_path: str) -> List[Document]:\n",
    "    \"\"\" Process json with flattening \"\"\"\n",
    "\n",
    "    with open(file_path, 'r') as f:\n",
    "        data = json.load(f)\n",
    "\n",
    "    documents = []\n",
    "    # Method 2\n",
    "    for emp in data.get('employees', []):\n",
    "        content = f\"\"\"Employee Profile:\n",
    "Name: {emp['name']}\n",
    "Role: {emp['role']}\n",
    "Skills: {', '.join(emp['skills'])}\n",
    "\n",
    "Projects:\"\"\"\n",
    "        for proj in emp.get('projects', []):\n",
    "            content += f\"\\n - {proj['name']} (Status: {proj['status']})\"\n",
    "\n",
    "        doc = Document(\n",
    "            page_content=content,\n",
    "            metadata={\n",
    "                'source': file_path,\n",
    "                'data_type': 'employee_profile',\n",
    "                'employee_id': emp['id'],\n",
    "                'employee_name': emp['name'],\n",
    "                'role': emp['role']\n",
    "            }\n",
    "        )\n",
    "\n",
    "        documents.append(doc)\n",
    "    \n",
    "    return documents\n",
    "    "
   ]
  },
  {
   "cell_type": "code",
   "execution_count": null,
   "id": "78a42f21",
   "metadata": {},
   "outputs": [
    {
     "name": "stdout",
     "output_type": "stream",
     "text": [
      "page_content='Employee Profile:\n",
      "Name: Alex Thompson\n",
      "Role: Frontend Developer\n",
      "Skills: Vue.js, TypeScript, CSS\n",
      "\n",
      "Projects:\n",
      " - RAG System (Status: In Progress)\n",
      " - Data Pipeline (Status: Completed)' metadata={'source': 'data/json_files/company_data.json', 'data_type': 'employee_profile', 'employee_id': 1, 'employee_name': 'Alex Thompson', 'role': 'Frontend Developer'}\n"
     ]
    }
   ],
   "source": [
    "json_file = process_json_custom('data/json_files/company_data.json')\n",
    "print(json_file[0])"
   ]
  },
  {
   "cell_type": "code",
   "execution_count": null,
   "id": "9c0a70b9",
   "metadata": {},
   "outputs": [],
   "source": []
  }
 ],
 "metadata": {
  "kernelspec": {
   "display_name": "ai_rag",
   "language": "python",
   "name": "python3"
  },
  "language_info": {
   "codemirror_mode": {
    "name": "ipython",
    "version": 3
   },
   "file_extension": ".py",
   "mimetype": "text/x-python",
   "name": "python",
   "nbconvert_exporter": "python",
   "pygments_lexer": "ipython3",
   "version": "3.13.7"
  }
 },
 "nbformat": 4,
 "nbformat_minor": 5
}
