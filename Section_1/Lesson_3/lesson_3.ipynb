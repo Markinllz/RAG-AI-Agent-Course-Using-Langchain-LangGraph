{
 "cells": [
  {
   "cell_type": "markdown",
   "id": "11c76676",
   "metadata": {},
   "source": [
    "# SQL DataBase Parsing"
   ]
  },
  {
   "cell_type": "code",
   "execution_count": 2,
   "id": "f2e0a85b",
   "metadata": {},
   "outputs": [],
   "source": [
    "## create sample SqLite Database\n",
    "import sqlite3\n",
    "import os\n",
    "\n",
    "os.makedirs(\"data/databases\", exist_ok = True)"
   ]
  },
  {
   "cell_type": "code",
   "execution_count": 3,
   "id": "a8c1dc27",
   "metadata": {},
   "outputs": [],
   "source": [
    "## create sample\n",
    "\n",
    "conn = sqlite3.connect('data/databases/company.db')\n",
    "cursor = conn.cursor()"
   ]
  },
  {
   "cell_type": "code",
   "execution_count": 4,
   "id": "078ca5f5",
   "metadata": {},
   "outputs": [
    {
     "data": {
      "text/plain": [
       "<sqlite3.Cursor at 0x11436d7c0>"
      ]
     },
     "execution_count": 4,
     "metadata": {},
     "output_type": "execute_result"
    }
   ],
   "source": [
    "cursor.execute('''\n",
    "    CREATE TABLE IF NOT EXISTS employees (\n",
    "        id INTEGER PRIMARY KEY,\n",
    "        name TEXT,\n",
    "        role TEXT,\n",
    "        department TEXT,\n",
    "        salary REAL\n",
    "    )\n",
    "''')"
   ]
  },
  {
   "cell_type": "code",
   "execution_count": 5,
   "id": "f58da221",
   "metadata": {},
   "outputs": [
    {
     "data": {
      "text/plain": [
       "<sqlite3.Cursor at 0x11436d7c0>"
      ]
     },
     "execution_count": 5,
     "metadata": {},
     "output_type": "execute_result"
    }
   ],
   "source": [
    "cursor.execute('''\n",
    "    CREATE TABLE IF NOT EXISTS projects (\n",
    "        id INTEGER PRIMARY KEY,\n",
    "        name TEXT,\n",
    "        status TEXT,\n",
    "        budget REAL,\n",
    "        lead_id INTEGER\n",
    "    )\n",
    "''')"
   ]
  },
  {
   "cell_type": "code",
   "execution_count": 7,
   "id": "3e127aa0",
   "metadata": {},
   "outputs": [],
   "source": [
    "employees = [\n",
    "    (1, 'John Doe', 'Senior Developer', 'Engineering', 95000),\n",
    "    (2, 'Jane Smith', 'Data Scientist', 'Analytics', 105000),\n",
    "    (3, 'Mike Johnson', 'Product Manager', 'Product', 110000),\n",
    "    (4, 'Sarah Williams', 'DevOps Engineer', 'Engineering', 98000)\n",
    "]\n",
    "\n",
    "projects = [\n",
    "    (1, 'RAG Implementation', 'Active', 150000, 1),\n",
    "    (2, 'Data Pipeline', 'Completed', 80000, 2),\n",
    "    (3, 'Customer Portal', 'Planning', 200000, 3),\n",
    "    (4, 'ML Platform', 'Active', 250000, 2)\n",
    "]"
   ]
  },
  {
   "cell_type": "code",
   "execution_count": 8,
   "id": "4ffdb0a5",
   "metadata": {},
   "outputs": [
    {
     "data": {
      "text/plain": [
       "<sqlite3.Cursor at 0x11436d7c0>"
      ]
     },
     "execution_count": 8,
     "metadata": {},
     "output_type": "execute_result"
    }
   ],
   "source": [
    "cursor.executemany('INSERT INTO employees VALUES (?, ?, ?, ?, ?)', employees)\n",
    "cursor.executemany('INSERT INTO projects VALUES (?, ?, ?, ?, ?)', projects)"
   ]
  },
  {
   "cell_type": "code",
   "execution_count": 9,
   "id": "87eafec7",
   "metadata": {},
   "outputs": [
    {
     "data": {
      "text/plain": [
       "<sqlite3.Cursor at 0x11436d7c0>"
      ]
     },
     "execution_count": 9,
     "metadata": {},
     "output_type": "execute_result"
    }
   ],
   "source": [
    "cursor.execute(\"Select * from employees\")"
   ]
  },
  {
   "cell_type": "code",
   "execution_count": 10,
   "id": "5e128b0d",
   "metadata": {},
   "outputs": [],
   "source": [
    "conn.commit()\n",
    "conn.close()"
   ]
  },
  {
   "cell_type": "markdown",
   "id": "79e5dc57",
   "metadata": {},
   "source": [
    "## DataBase Document Extraction"
   ]
  },
  {
   "cell_type": "code",
   "execution_count": 13,
   "id": "3503c7ec",
   "metadata": {},
   "outputs": [],
   "source": [
    "from langchain_community.utilities import SQLDatabase\n",
    "\n",
    "from langchain_community.document_loaders import SQLDatabaseLoader\n"
   ]
  },
  {
   "cell_type": "code",
   "execution_count": 16,
   "id": "489ef2cc",
   "metadata": {},
   "outputs": [
    {
     "name": "stdout",
     "output_type": "stream",
     "text": [
      "['employees', 'projects']\n",
      "\n",
      "CREATE TABLE employees (\n",
      "\tid INTEGER, \n",
      "\tname TEXT, \n",
      "\trole TEXT, \n",
      "\tdepartment TEXT, \n",
      "\tsalary REAL, \n",
      "\tPRIMARY KEY (id)\n",
      ")\n",
      "\n",
      "/*\n",
      "3 rows from employees table:\n",
      "id\tname\trole\tdepartment\tsalary\n",
      "1\tJohn Doe\tSenior Developer\tEngineering\t95000.0\n",
      "2\tJane Smith\tData Scientist\tAnalytics\t105000.0\n",
      "3\tMike Johnson\tProduct Manager\tProduct\t110000.0\n",
      "*/\n",
      "\n",
      "\n",
      "CREATE TABLE projects (\n",
      "\tid INTEGER, \n",
      "\tname TEXT, \n",
      "\tstatus TEXT, \n",
      "\tbudget REAL, \n",
      "\tlead_id INTEGER, \n",
      "\tPRIMARY KEY (id)\n",
      ")\n",
      "\n",
      "/*\n",
      "3 rows from projects table:\n",
      "id\tname\tstatus\tbudget\tlead_id\n",
      "1\tRAG Implementation\tActive\t150000.0\t1\n",
      "2\tData Pipeline\tCompleted\t80000.0\t2\n",
      "3\tCustomer Portal\tPlanning\t200000.0\t3\n",
      "*/\n"
     ]
    }
   ],
   "source": [
    "db = SQLDatabase.from_uri(\"sqlite:///data/databases/company.db\")\n",
    "\n",
    "print(db.get_usable_table_names())\n",
    "print(db.get_table_info())"
   ]
  },
  {
   "cell_type": "markdown",
   "id": "471771fb",
   "metadata": {},
   "source": [
    "## Custom SQL Processing"
   ]
  },
  {
   "cell_type": "code",
   "execution_count": null,
   "id": "c027a482",
   "metadata": {},
   "outputs": [],
   "source": [
    "from typing import List\n",
    "from langchain_core.documents import Document\n",
    "\n",
    "\n",
    "def sql_to_doc(db_path : str) -> List[Document]:\n",
    "\n",
    "    conn = sqlite3.connect(db_path)\n",
    "    cursor = conn.cursor()\n",
    "    documents = []\n",
    "\n",
    "    cursor.execute(\"SELECT name FROM sqlite_master WHERE type='table';\")    \n",
    "    tables = cursor.fetchall()   \n",
    "\n",
    "\n",
    "    for table in tables:\n",
    "        table_name = table[0]\n",
    "\n",
    "        # Get column names\n",
    "        cursor.execute(f\"PRAGMA table_info({table_name});\")\n",
    "        columns = cursor.fetchall()\n",
    "        column_names = [col[1] for col in columns]\n",
    "        # Fetch all rows\n",
    "        cursor.execute(f\"SELECT * FROM {table_name};\")\n",
    "        rows = cursor.fetchall()\n",
    "\n",
    "        table_content = f\"Table: {table_name}\\nColumns: {', '.join(column_names)}\\n\\n\"\n",
    "\n",
    "        table_content += \"Sample Records:\\n\"\n",
    "        for row in rows[:5]:  # Limiting to first 5 rows for brev\n",
    "            record = dict(zip(column_names, row))\n",
    "            table_content += f\"{record}\\n\"\n",
    "\n",
    "        doc = Document(page_content=table_content, metadata={\"source\": table_name,\n",
    "                                                             \"table_name\": table_name,\n",
    "                                                             \"num_records\": len(rows),\n",
    "                                                             \"data_type\": \"sql\"\n",
    "                                                             })\n",
    "        documents.append(doc)\n",
    "\n",
    "\n",
    "        cursor.execute(\"\"\"\n",
    "                       SELECT e.name, e.role, p.name as project_name, p.status\n",
    "                       FROM employees e \n",
    "                       JOIN projects p ON e.id = p.lead_id\n",
    "                       \"\"\")\n",
    "        relationships = cursor.fetchall()\n",
    "        rel_content = \"Employee-Project Relationships \\n\\n\"\n",
    "\n",
    "        for rel in relationships:\n",
    "            rel_content += f\"{rel[0]} ({rel[1]}) leads {rel[2]} - Status {rel[3]} \\n\"\n",
    "\n",
    "\n",
    "        rel_doc = Document(\n",
    "            page_content=rel_content,\n",
    "            metadata = {\n",
    "                'source' : db_path,\n",
    "                'db_path' : 'sql_rel'\n",
    "            }\n",
    "        )\n",
    "\n",
    "        documents.append(rel_doc)\n",
    "\n",
    "    return documents\n"
   ]
  },
  {
   "cell_type": "code",
   "execution_count": 18,
   "id": "d7eb6802",
   "metadata": {},
   "outputs": [
    {
     "data": {
      "text/plain": [
       "[Document(metadata={'source': 'employees', 'table_name': 'employees', 'num_records': 4, 'data_type': 'sql'}, page_content=\"Table: employees\\nColumns: id, name, role, department, salary\\n\\nSample Records:\\n{'id': 1, 'name': 'John Doe', 'role': 'Senior Developer', 'department': 'Engineering', 'salary': 95000.0}\\n{'id': 2, 'name': 'Jane Smith', 'role': 'Data Scientist', 'department': 'Analytics', 'salary': 105000.0}\\n{'id': 3, 'name': 'Mike Johnson', 'role': 'Product Manager', 'department': 'Product', 'salary': 110000.0}\\n{'id': 4, 'name': 'Sarah Williams', 'role': 'DevOps Engineer', 'department': 'Engineering', 'salary': 98000.0}\\n\"),\n",
       " Document(metadata={'source': 'projects', 'table_name': 'projects', 'num_records': 4, 'data_type': 'sql'}, page_content=\"Table: projects\\nColumns: id, name, status, budget, lead_id\\n\\nSample Records:\\n{'id': 1, 'name': 'RAG Implementation', 'status': 'Active', 'budget': 150000.0, 'lead_id': 1}\\n{'id': 2, 'name': 'Data Pipeline', 'status': 'Completed', 'budget': 80000.0, 'lead_id': 2}\\n{'id': 3, 'name': 'Customer Portal', 'status': 'Planning', 'budget': 200000.0, 'lead_id': 3}\\n{'id': 4, 'name': 'ML Platform', 'status': 'Active', 'budget': 250000.0, 'lead_id': 2}\\n\")]"
      ]
     },
     "execution_count": 18,
     "metadata": {},
     "output_type": "execute_result"
    }
   ],
   "source": [
    "sql_to_doc(\"data/databases/company.db\")"
   ]
  },
  {
   "cell_type": "code",
   "execution_count": null,
   "id": "7b76731c",
   "metadata": {},
   "outputs": [],
   "source": []
  }
 ],
 "metadata": {
  "kernelspec": {
   "display_name": "ai_rag",
   "language": "python",
   "name": "python3"
  },
  "language_info": {
   "codemirror_mode": {
    "name": "ipython",
    "version": 3
   },
   "file_extension": ".py",
   "mimetype": "text/x-python",
   "name": "python",
   "nbconvert_exporter": "python",
   "pygments_lexer": "ipython3",
   "version": "3.13.7"
  }
 },
 "nbformat": 4,
 "nbformat_minor": 5
}
