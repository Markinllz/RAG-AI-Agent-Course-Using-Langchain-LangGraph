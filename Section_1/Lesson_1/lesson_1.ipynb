{
 "cells": [
  {
   "cell_type": "markdown",
   "id": "39e01a34",
   "metadata": {},
   "source": [
    "# Data Parsing\n",
    "First of all we will understand how to parse data.\n",
    "For example: You have csv data, and want to use it in your agents systems, but how ?\n",
    "\n"
   ]
  },
  {
   "cell_type": "code",
   "execution_count": 13,
   "id": "368018dc",
   "metadata": {},
   "outputs": [],
   "source": [
    "# Import necessary libraries\n",
    "\n",
    "import pandas as pd\n",
    "import langchain\n",
    "import os\n",
    "import sys\n",
    "\n"
   ]
  },
  {
   "cell_type": "code",
   "execution_count": 14,
   "id": "9100e8ca",
   "metadata": {},
   "outputs": [],
   "source": [
    "os.makedirs(\"data/strcutures_files\", exist_ok=True) # Create folder"
   ]
  },
  {
   "cell_type": "code",
   "execution_count": 15,
   "id": "839bc18f",
   "metadata": {},
   "outputs": [],
   "source": [
    "# Create simple Data\n",
    "\n",
    "data = {\n",
    "    \"Product\" : ['Laptop', 'Mouse', 'Keyboard'],\n",
    "    \"Category\" : ['Electronics', 'Accessories','Accessories'],\n",
    "    \"Price\" : [1000, 30, 80],\n",
    "    'Stock' : [50, 200, 150],\n",
    "    'Description' : [\n",
    "        'Good Laptop with GPU',\n",
    "        'Wireless mouth',\n",
    "        'Wireless keyboard with BGR'\n",
    "    ]\n",
    "}\n",
    "\n",
    "\n",
    "df = pd.DataFrame(data) # Making a frame of data\n",
    "df.to_csv('data/strcutures_files/products.csv', index = False) # Create csv file from frame\n"
   ]
  },
  {
   "cell_type": "code",
   "execution_count": 16,
   "id": "3745c10e",
   "metadata": {},
   "outputs": [],
   "source": [
    "# Save as Excel with multiple sheets\n",
    "with pd.ExcelWriter('data/strcutures_files/inventory.xlsx') as writer:\n",
    "    df.to_excel(writer, sheet_name='Products', index = False)\n",
    "\n",
    "\n",
    "    # Add another sheet\n",
    "\n",
    "    data_sum = {\n",
    "        'Category' : ['Electronics', 'Accessories'],\n",
    "        'Total_Items' : [1, 2],\n",
    "        'Total_Value' : [1000, 110]\n",
    "    }\n",
    "\n",
    "\n",
    "    pd.DataFrame(data_sum).to_excel(writer, sheet_name='Summary', index=False)"
   ]
  },
  {
   "cell_type": "markdown",
   "id": "3244f2e8",
   "metadata": {},
   "source": [
    "## CSV Processing"
   ]
  },
  {
   "cell_type": "code",
   "execution_count": 17,
   "id": "ef95a544",
   "metadata": {},
   "outputs": [],
   "source": [
    "from langchain_community.document_loaders import CSVLoader\n",
    "from langchain_community.document_loaders import UnstructuredCSVLoader"
   ]
  },
  {
   "cell_type": "markdown",
   "id": "055cef90",
   "metadata": {},
   "source": [
    "### Row-Based CSV"
   ]
  },
  {
   "cell_type": "code",
   "execution_count": 18,
   "id": "83689a9d",
   "metadata": {},
   "outputs": [
    {
     "name": "stdout",
     "output_type": "stream",
     "text": [
      "CSVLoader - Row-based Documents\n",
      "3\n",
      "First doc\n",
      "Product: Laptop\n",
      "Category: Electronics\n",
      "Price: 1000\n",
      "Stock: 50\n",
      "Description: Good Laptop with GPU\n",
      "{'source': 'data/strcutures_files/products.csv', 'row': 0}\n"
     ]
    }
   ],
   "source": [
    "# Method 1: CSVLoader - Each row start to be a document\n",
    "\n",
    "print(\"CSVLoader - Row-based Documents\")\n",
    "csv_loader = CSVLoader(\n",
    "    file_path = 'data/strcutures_files/products.csv',\n",
    "    encoding= 'utf-8',\n",
    "    csv_args={\n",
    "        'delimiter' : ',',\n",
    "        'quotechar' : '\"',\n",
    "    }\n",
    ")\n",
    "\n",
    "csv_docs = csv_loader.load()\n",
    "print(len(csv_docs))\n",
    "print(\"First doc\")\n",
    "print(csv_docs[0].page_content)\n",
    "print(csv_docs[0].metadata)\n"
   ]
  },
  {
   "cell_type": "markdown",
   "id": "dd467ac1",
   "metadata": {},
   "source": [
    "### Custom CSV Loader\n"
   ]
  },
  {
   "cell_type": "code",
   "execution_count": 19,
   "id": "65b6cf85",
   "metadata": {},
   "outputs": [
    {
     "name": "stdout",
     "output_type": "stream",
     "text": [
      "Customization\n"
     ]
    }
   ],
   "source": [
    "# Method 2 - custom csv processing, we can make our own parser\n",
    "from typing import List\n",
    "from langchain_core.documents import Document\n",
    "print(\"Customization\")\n",
    "\n",
    "def process_csv(file_path : str)  -> List[Document]:\n",
    "    \"\"\"Process csv with custom parser\"\"\"\n",
    "    documents = []\n",
    "    df = pd.read_csv(file_path)\n",
    "    for idx, row in df.iterrows():\n",
    "\n",
    "        content = f\"\"\"Product Info:\n",
    "        Name : {row['Product']}\n",
    "        Category : {row['Category']}\n",
    "        Price: ${row['Price']}\n",
    "        Stock: {row['Stock']} units\n",
    "        Description: {row['Description']}\"\"\"\n",
    "\n",
    "\n",
    "        # Create doc with metadata\n",
    "\n",
    "        doc = Document(page_content=content,\n",
    "                       metadata = {\n",
    "                           'source' : file_path,\n",
    "                           'row_index' : idx,\n",
    "                           'product_name' : row['Product'],\n",
    "                           'category' : row['Category'],\n",
    "                           'price' : row['Price'],\n",
    "                           'data_type' : 'product_info'\n",
    "                       })\n",
    "        \n",
    "        documents.append(doc)\n",
    "    return documents\n",
    "        \n",
    "\n",
    "\n",
    "\n"
   ]
  },
  {
   "cell_type": "code",
   "execution_count": 20,
   "id": "08d4154d",
   "metadata": {},
   "outputs": [
    {
     "name": "stdout",
     "output_type": "stream",
     "text": [
      "page_content='Product Info:\n",
      "        Name : Laptop\n",
      "        Category : Electronics\n",
      "        Price: $1000\n",
      "        Stock: 50 units\n",
      "        Description: Good Laptop with GPU' metadata={'source': 'data/strcutures_files/products.csv', 'row_index': 0, 'product_name': 'Laptop', 'category': 'Electronics', 'price': 1000, 'data_type': 'product_info'}\n"
     ]
    }
   ],
   "source": [
    "documents = process_csv('data/strcutures_files/products.csv')\n",
    "print(documents[0])\n"
   ]
  },
  {
   "cell_type": "markdown",
   "id": "d74cf983",
   "metadata": {},
   "source": [
    "So row-based very fast and simple, but it losses a lot of table context.\n",
    "Custom loader, can creates summaries, have rich metadata, and very good for Q&A(question and answering)\n"
   ]
  },
  {
   "cell_type": "markdown",
   "id": "2ee6364c",
   "metadata": {},
   "source": [
    "### Excel Processing"
   ]
  },
  {
   "cell_type": "code",
   "execution_count": 21,
   "id": "51db7bd4",
   "metadata": {},
   "outputs": [
    {
     "name": "stdout",
     "output_type": "stream",
     "text": [
      "Pandas-based Excel Processing\n"
     ]
    }
   ],
   "source": [
    "print(\"Pandas-based Excel Processing\")\n",
    "def process_excel(file_path : str) -> List[Document]:\n",
    "    \"\"\"Process Excell with sheet awreness\"\"\"\n",
    "\n",
    "    documents = []\n",
    "\n",
    "    excel_file = pd.ExcelFile(file_path)\n",
    "\n",
    "    for sheet_name in excel_file.sheet_names:\n",
    "        df = pd.read_excel(file_path, sheet_name=sheet_name)\n",
    "\n",
    "\n",
    "        sheet_content = f\"Sheet: {sheet_name}\\n\"\n",
    "        sheet_content += f\"Columns: {', '.join(df.columns)}\\n\"\n",
    "        sheet_content += f\"Rows: {len(df)}\\n\\n\"\n",
    "        sheet_content += df.to_string(index=False)\n",
    "\n",
    "\n",
    "        doc = Document(page_content=sheet_content,\n",
    "                    metedata = {\n",
    "                        'source' : file_path,\n",
    "                        'sheet_name' : sheet_name,\n",
    "                        'num_rows' : len(df),\n",
    "                        'num_columns' : len(df.columns),\n",
    "                        'data_type' : 'excel_sheet'\n",
    "                    })\n",
    "        documents.append(doc)\n",
    "    return documents\n",
    "\n",
    "\n",
    "    \n",
    "\n"
   ]
  },
  {
   "cell_type": "code",
   "execution_count": 22,
   "id": "de6c2c9d",
   "metadata": {},
   "outputs": [
    {
     "name": "stdout",
     "output_type": "stream",
     "text": [
      "Good, 2 sheets\n",
      "page_content='Sheet: Products\n",
      "Columns: Product, Category, Price, Stock, Description\n",
      "Rows: 3\n",
      "\n",
      " Product    Category  Price  Stock                Description\n",
      "  Laptop Electronics   1000     50       Good Laptop with GPU\n",
      "   Mouse Accessories     30    200             Wireless mouth\n",
      "Keyboard Accessories     80    150 Wireless keyboard with BGR'\n",
      "page_content='Sheet: Summary\n",
      "Columns: Category, Total_Items, Total_Value\n",
      "Rows: 2\n",
      "\n",
      "   Category  Total_Items  Total_Value\n",
      "Electronics            1         1000\n",
      "Accessories            2          110'\n"
     ]
    }
   ],
   "source": [
    "excel_docs = process_excel('data/strcutures_files/inventory.xlsx')\n",
    "print(f\"Good, {len(excel_docs)} sheets\")\n",
    "\n",
    "print(excel_docs[0])\n",
    "print(excel_docs[1])"
   ]
  },
  {
   "cell_type": "markdown",
   "id": "9e51a595",
   "metadata": {},
   "source": [
    "### Custom Excel Processing"
   ]
  },
  {
   "cell_type": "code",
   "execution_count": 23,
   "id": "24d7a194",
   "metadata": {},
   "outputs": [
    {
     "name": "stdout",
     "output_type": "stream",
     "text": [
      "Requirement already satisfied: unstructured in /opt/anaconda3/envs/ai_rag/lib/python3.13/site-packages (0.18.15)\n",
      "Requirement already satisfied: charset-normalizer in /opt/anaconda3/envs/ai_rag/lib/python3.13/site-packages (from unstructured) (3.3.2)\n",
      "Requirement already satisfied: filetype in /opt/anaconda3/envs/ai_rag/lib/python3.13/site-packages (from unstructured) (1.2.0)\n",
      "Requirement already satisfied: python-magic in /opt/anaconda3/envs/ai_rag/lib/python3.13/site-packages (from unstructured) (0.4.27)\n",
      "Requirement already satisfied: lxml in /opt/anaconda3/envs/ai_rag/lib/python3.13/site-packages (from unstructured) (6.0.2)\n",
      "Requirement already satisfied: nltk in /opt/anaconda3/envs/ai_rag/lib/python3.13/site-packages (from unstructured) (3.9.1)\n",
      "Requirement already satisfied: requests in /opt/anaconda3/envs/ai_rag/lib/python3.13/site-packages (from unstructured) (2.32.5)\n",
      "Requirement already satisfied: beautifulsoup4 in /opt/anaconda3/envs/ai_rag/lib/python3.13/site-packages (from unstructured) (4.13.5)\n",
      "Requirement already satisfied: emoji in /opt/anaconda3/envs/ai_rag/lib/python3.13/site-packages (from unstructured) (2.15.0)\n",
      "Requirement already satisfied: dataclasses-json in /opt/anaconda3/envs/ai_rag/lib/python3.13/site-packages (from unstructured) (0.6.7)\n",
      "Requirement already satisfied: python-iso639 in /opt/anaconda3/envs/ai_rag/lib/python3.13/site-packages (from unstructured) (2025.2.18)\n",
      "Requirement already satisfied: langdetect in /opt/anaconda3/envs/ai_rag/lib/python3.13/site-packages (from unstructured) (1.0.9)\n",
      "Requirement already satisfied: numpy in /opt/anaconda3/envs/ai_rag/lib/python3.13/site-packages (from unstructured) (2.2.6)\n",
      "Requirement already satisfied: rapidfuzz in /opt/anaconda3/envs/ai_rag/lib/python3.13/site-packages (from unstructured) (3.14.1)\n",
      "Requirement already satisfied: backoff in /opt/anaconda3/envs/ai_rag/lib/python3.13/site-packages (from unstructured) (2.2.1)\n",
      "Requirement already satisfied: typing-extensions in /opt/anaconda3/envs/ai_rag/lib/python3.13/site-packages (from unstructured) (4.15.0)\n",
      "Requirement already satisfied: unstructured-client in /opt/anaconda3/envs/ai_rag/lib/python3.13/site-packages (from unstructured) (0.42.3)\n",
      "Requirement already satisfied: wrapt in /opt/anaconda3/envs/ai_rag/lib/python3.13/site-packages (from unstructured) (1.17.3)\n",
      "Requirement already satisfied: tqdm in /opt/anaconda3/envs/ai_rag/lib/python3.13/site-packages (from unstructured) (4.67.1)\n",
      "Requirement already satisfied: psutil in /opt/anaconda3/envs/ai_rag/lib/python3.13/site-packages (from unstructured) (7.0.0)\n",
      "Requirement already satisfied: python-oxmsg in /opt/anaconda3/envs/ai_rag/lib/python3.13/site-packages (from unstructured) (0.0.2)\n",
      "Requirement already satisfied: html5lib in /opt/anaconda3/envs/ai_rag/lib/python3.13/site-packages (from unstructured) (1.1)\n",
      "Requirement already satisfied: soupsieve>1.2 in /opt/anaconda3/envs/ai_rag/lib/python3.13/site-packages (from beautifulsoup4->unstructured) (2.5)\n",
      "Requirement already satisfied: marshmallow<4.0.0,>=3.18.0 in /opt/anaconda3/envs/ai_rag/lib/python3.13/site-packages (from dataclasses-json->unstructured) (3.26.1)\n",
      "Requirement already satisfied: typing-inspect<1,>=0.4.0 in /opt/anaconda3/envs/ai_rag/lib/python3.13/site-packages (from dataclasses-json->unstructured) (0.9.0)\n",
      "Requirement already satisfied: packaging>=17.0 in /opt/anaconda3/envs/ai_rag/lib/python3.13/site-packages (from marshmallow<4.0.0,>=3.18.0->dataclasses-json->unstructured) (25.0)\n",
      "Requirement already satisfied: mypy-extensions>=0.3.0 in /opt/anaconda3/envs/ai_rag/lib/python3.13/site-packages (from typing-inspect<1,>=0.4.0->dataclasses-json->unstructured) (1.1.0)\n",
      "Requirement already satisfied: six>=1.9 in /opt/anaconda3/envs/ai_rag/lib/python3.13/site-packages (from html5lib->unstructured) (1.17.0)\n",
      "Requirement already satisfied: webencodings in /opt/anaconda3/envs/ai_rag/lib/python3.13/site-packages (from html5lib->unstructured) (0.5.1)\n",
      "Requirement already satisfied: click in /opt/anaconda3/envs/ai_rag/lib/python3.13/site-packages (from nltk->unstructured) (8.3.0)\n",
      "Requirement already satisfied: joblib in /opt/anaconda3/envs/ai_rag/lib/python3.13/site-packages (from nltk->unstructured) (1.5.2)\n",
      "Requirement already satisfied: regex>=2021.8.3 in /opt/anaconda3/envs/ai_rag/lib/python3.13/site-packages (from nltk->unstructured) (2025.9.18)\n",
      "Requirement already satisfied: olefile in /opt/anaconda3/envs/ai_rag/lib/python3.13/site-packages (from python-oxmsg->unstructured) (0.47)\n",
      "Requirement already satisfied: idna<4,>=2.5 in /opt/anaconda3/envs/ai_rag/lib/python3.13/site-packages (from requests->unstructured) (3.7)\n",
      "Requirement already satisfied: urllib3<3,>=1.21.1 in /opt/anaconda3/envs/ai_rag/lib/python3.13/site-packages (from requests->unstructured) (2.3.0)\n",
      "Requirement already satisfied: certifi>=2017.4.17 in /opt/anaconda3/envs/ai_rag/lib/python3.13/site-packages (from requests->unstructured) (2025.8.3)\n",
      "Requirement already satisfied: aiofiles>=24.1.0 in /opt/anaconda3/envs/ai_rag/lib/python3.13/site-packages (from unstructured-client->unstructured) (24.1.0)\n",
      "Requirement already satisfied: cryptography>=3.1 in /opt/anaconda3/envs/ai_rag/lib/python3.13/site-packages (from unstructured-client->unstructured) (46.0.1)\n",
      "Requirement already satisfied: httpcore>=1.0.9 in /opt/anaconda3/envs/ai_rag/lib/python3.13/site-packages (from unstructured-client->unstructured) (1.0.9)\n",
      "Requirement already satisfied: httpx>=0.27.0 in /opt/anaconda3/envs/ai_rag/lib/python3.13/site-packages (from unstructured-client->unstructured) (0.28.1)\n",
      "Requirement already satisfied: pydantic>=2.11.2 in /opt/anaconda3/envs/ai_rag/lib/python3.13/site-packages (from unstructured-client->unstructured) (2.11.9)\n",
      "Requirement already satisfied: pypdf>=4.0 in /opt/anaconda3/envs/ai_rag/lib/python3.13/site-packages (from unstructured-client->unstructured) (6.1.1)\n",
      "Requirement already satisfied: requests-toolbelt>=1.0.0 in /opt/anaconda3/envs/ai_rag/lib/python3.13/site-packages (from unstructured-client->unstructured) (1.0.0)\n",
      "Requirement already satisfied: cffi>=2.0.0 in /opt/anaconda3/envs/ai_rag/lib/python3.13/site-packages (from cryptography>=3.1->unstructured-client->unstructured) (2.0.0)\n",
      "Requirement already satisfied: pycparser in /opt/anaconda3/envs/ai_rag/lib/python3.13/site-packages (from cffi>=2.0.0->cryptography>=3.1->unstructured-client->unstructured) (2.23)\n",
      "Requirement already satisfied: h11>=0.16 in /opt/anaconda3/envs/ai_rag/lib/python3.13/site-packages (from httpcore>=1.0.9->unstructured-client->unstructured) (0.16.0)\n",
      "Requirement already satisfied: anyio in /opt/anaconda3/envs/ai_rag/lib/python3.13/site-packages (from httpx>=0.27.0->unstructured-client->unstructured) (4.10.0)\n",
      "Requirement already satisfied: annotated-types>=0.6.0 in /opt/anaconda3/envs/ai_rag/lib/python3.13/site-packages (from pydantic>=2.11.2->unstructured-client->unstructured) (0.7.0)\n",
      "Requirement already satisfied: pydantic-core==2.33.2 in /opt/anaconda3/envs/ai_rag/lib/python3.13/site-packages (from pydantic>=2.11.2->unstructured-client->unstructured) (2.33.2)\n",
      "Requirement already satisfied: typing-inspection>=0.4.0 in /opt/anaconda3/envs/ai_rag/lib/python3.13/site-packages (from pydantic>=2.11.2->unstructured-client->unstructured) (0.4.1)\n",
      "Requirement already satisfied: sniffio>=1.1 in /opt/anaconda3/envs/ai_rag/lib/python3.13/site-packages (from anyio->httpx>=0.27.0->unstructured-client->unstructured) (1.3.0)\n",
      "Requirement already satisfied: msoffcrypto-tool in /opt/anaconda3/envs/ai_rag/lib/python3.13/site-packages (5.4.2)\n",
      "Requirement already satisfied: cryptography>=39.0 in /opt/anaconda3/envs/ai_rag/lib/python3.13/site-packages (from msoffcrypto-tool) (46.0.1)\n",
      "Requirement already satisfied: olefile>=0.46 in /opt/anaconda3/envs/ai_rag/lib/python3.13/site-packages (from msoffcrypto-tool) (0.47)\n",
      "Requirement already satisfied: cffi>=2.0.0 in /opt/anaconda3/envs/ai_rag/lib/python3.13/site-packages (from cryptography>=39.0->msoffcrypto-tool) (2.0.0)\n",
      "Requirement already satisfied: pycparser in /opt/anaconda3/envs/ai_rag/lib/python3.13/site-packages (from cffi>=2.0.0->cryptography>=39.0->msoffcrypto-tool) (2.23)\n"
     ]
    }
   ],
   "source": [
    "!pip install unstructured\n",
    "!pip install msoffcrypto-tool"
   ]
  },
  {
   "cell_type": "code",
   "execution_count": 24,
   "id": "f4a9f4ce",
   "metadata": {},
   "outputs": [
    {
     "name": "stdout",
     "output_type": "stream",
     "text": [
      "Unstructrured Excel Loader\n"
     ]
    }
   ],
   "source": [
    "\n",
    "from langchain_community.document_loaders import UnstructuredExcelLoader\n",
    "\n",
    "print(\"Unstructrured Excel Loader\")\n",
    "\n",
    "try:\n",
    "    excel_loader = UnstructuredExcelLoader(\n",
    "        'data/strcutures_files/inventory.xlsx',\n",
    "        mode = 'elements'\n",
    "    )\n",
    "    unstructured_docs = excel_loader.load()\n",
    "except Exception as e:\n",
    "    print(f\"Error {e}\")"
   ]
  },
  {
   "cell_type": "code",
   "execution_count": 25,
   "id": "16d8e659",
   "metadata": {},
   "outputs": [
    {
     "data": {
      "text/plain": [
       "[Document(metadata={'source': 'data/strcutures_files/inventory.xlsx', 'file_directory': 'data/strcutures_files', 'filename': 'inventory.xlsx', 'last_modified': '2025-10-02T15:53:56', 'page_name': 'Products', 'page_number': 1, 'text_as_html': '<table><tr><td>Product</td><td>Category</td><td>Price</td><td>Stock</td><td>Description</td></tr><tr><td>Laptop</td><td>Electronics</td><td>1000</td><td>50</td><td>Good Laptop with GPU</td></tr><tr><td>Mouse</td><td>Accessories</td><td>30</td><td>200</td><td>Wireless mouth</td></tr><tr><td>Keyboard</td><td>Accessories</td><td>80</td><td>150</td><td>Wireless keyboard with BGR</td></tr></table>', 'languages': ['eng'], 'filetype': 'application/vnd.openxmlformats-officedocument.spreadsheetml.sheet', 'category': 'Table', 'element_id': 'de0905c71a202a0d991a0bcceed97d14'}, page_content='Product Category Price Stock Description Laptop Electronics 1000 50 Good Laptop with GPU Mouse Accessories 30 200 Wireless mouth Keyboard Accessories 80 150 Wireless keyboard with BGR'),\n",
       " Document(metadata={'source': 'data/strcutures_files/inventory.xlsx', 'file_directory': 'data/strcutures_files', 'filename': 'inventory.xlsx', 'last_modified': '2025-10-02T15:53:56', 'page_name': 'Summary', 'page_number': 2, 'text_as_html': '<table><tr><td>Category</td><td>Total_Items</td><td>Total_Value</td></tr><tr><td>Electronics</td><td>1</td><td>1000</td></tr><tr><td>Accessories</td><td>2</td><td>110</td></tr></table>', 'languages': ['eng'], 'filetype': 'application/vnd.openxmlformats-officedocument.spreadsheetml.sheet', 'category': 'Table', 'element_id': '212f951f4454df98f63ed8aedd91768d'}, page_content='Category Total_Items Total_Value Electronics 1 1000 Accessories 2 110')]"
      ]
     },
     "execution_count": 25,
     "metadata": {},
     "output_type": "execute_result"
    }
   ],
   "source": [
    "unstructured_docs"
   ]
  }
 ],
 "metadata": {
  "kernelspec": {
   "display_name": "ai_rag",
   "language": "python",
   "name": "python3"
  },
  "language_info": {
   "codemirror_mode": {
    "name": "ipython",
    "version": 3
   },
   "file_extension": ".py",
   "mimetype": "text/x-python",
   "name": "python",
   "nbconvert_exporter": "python",
   "pygments_lexer": "ipython3",
   "version": "3.13.7"
  }
 },
 "nbformat": 4,
 "nbformat_minor": 5
}
